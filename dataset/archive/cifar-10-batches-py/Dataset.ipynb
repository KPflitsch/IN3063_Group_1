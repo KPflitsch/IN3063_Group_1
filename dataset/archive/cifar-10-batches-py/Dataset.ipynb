{
 "cells": [
  {
   "cell_type": "code",
   "execution_count": 1,
   "id": "529946f1-204f-43f8-a8f6-f6180dc57034",
   "metadata": {},
   "outputs": [],
   "source": [
    "import pickle\n",
    "import numpy as np"
   ]
  },
  {
   "cell_type": "code",
   "execution_count": 2,
   "id": "c7d8fef9-68da-404b-b82b-7e8f33afce32",
   "metadata": {},
   "outputs": [],
   "source": [
    "def unpickle(file):\n",
    "    with open(file, 'rb') as fo:\n",
    "        dict = pickle.load(fo, encoding='bytes')  # Use 'bytes' for compatibility with Python 3\n",
    "    return dict\n"
   ]
  },
  {
   "cell_type": "code",
   "execution_count": 3,
   "id": "dd3c3b14-bd0c-4cbd-8d19-c113592c7130",
   "metadata": {},
   "outputs": [
    {
     "name": "stdout",
     "output_type": "stream",
     "text": [
      "Data shape: (10000, 3072)\n",
      "Labels length: 10000\n"
     ]
    }
   ],
   "source": [
    "# Load a single batch\n",
    "batch = unpickle('data_batch_1')\n",
    "\n",
    "# Access the data and labels\n",
    "data = batch[b'data']  # Note the use of b'...' for keys due to byte encoding\n",
    "labels = batch[b'labels']\n",
    "\n",
    "# Print the shape of the data\n",
    "print(\"Data shape:\", data.shape)  # Should be (10000, 3072)\n",
    "print(\"Labels length:\", len(labels))  # Should be 10000\n"
   ]
  },
  {
   "cell_type": "code",
   "execution_count": 4,
   "id": "f4f853d6-e3a2-4c5b-a566-c36fbc7429e8",
   "metadata": {},
   "outputs": [
    {
     "data": {
      "image/png": "[encoded data removed]",
      "text/plain": [
       "<Figure size 640x480 with 1 Axes>"
      ]
     },
     "metadata": {},
     "output_type": "display_data"
    }
   ],
   "source": [
    "import matplotlib.pyplot as plt\n",
    "\n",
    "# Reshape the first image\n",
    "image = data[0].reshape(3, 32, 32).transpose(1, 2, 0)  # Rearrange dimensions to (32, 32, 3)\n",
    "\n",
    "# Plot the image\n",
    "plt.imshow(image)\n",
    "plt.title(f\"Label: {labels[0]}\")\n",
    "plt.show()\n"
   ]
  },
  {
   "cell_type": "code",
   "execution_count": 5,
   "id": "9681c445-589b-4c11-94fb-2a3a075367cc",
   "metadata": {},
   "outputs": [
    {
     "name": "stdout",
     "output_type": "stream",
     "text": [
      "Label names: ['airplane', 'automobile', 'bird', 'cat', 'deer', 'dog', 'frog', 'horse', 'ship', 'truck']\n"
     ]
    }
   ],
   "source": [
    "meta = unpickle('batches.meta')\n",
    "label_names = meta[b'label_names']\n",
    "\n",
    "# Decode byte labels to strings\n",
    "label_names = [name.decode('utf-8') for name in label_names]\n",
    "print(\"Label names:\", label_names)\n"
   ]
  },
  {
   "cell_type": "code",
   "execution_count": 6,
   "id": "9fef9975-780d-459c-b695-aacd18c56c2f",
   "metadata": {},
   "outputs": [
    {
     "name": "stdout",
     "output_type": "stream",
     "text": [
      "Combined data shape: (50000, 3072)\n",
      "Combined labels shape: (50000,)\n"
     ]
    }
   ],
   "source": [
    "# Initialize arrays for all data and labels\n",
    "all_data = []\n",
    "all_labels = []\n",
    "\n",
    "# Load all data batches\n",
    "for i in range(1, 6):\n",
    "    batch = unpickle(f'data_batch_{i}')\n",
    "    all_data.append(batch[b'data'])\n",
    "    all_labels.extend(batch[b'labels'])\n",
    "\n",
    "# Stack data into a single array\n",
    "all_data = np.vstack(all_data)\n",
    "all_labels = np.array(all_labels)\n",
    "\n",
    "print(\"Combined data shape:\", all_data.shape)  # Should be (50000, 3072)\n",
    "print(\"Combined labels shape:\", all_labels.shape)  # Should be (50000,)\n"
   ]
  },
  {
   "cell_type": "code",
   "execution_count": 7,
   "id": "2b77fc49-db9b-4b00-8c04-0302734af228",
   "metadata": {},
   "outputs": [
    {
     "name": "stdout",
     "output_type": "stream",
     "text": [
      "Test data shape: (10000, 3072)\n",
      "Test labels shape: (10000,)\n"
     ]
    }
   ],
   "source": [
    "test_batch = unpickle('test_batch')\n",
    "test_data = test_batch[b'data']\n",
    "test_labels = np.array(test_batch[b'labels'])\n",
    "\n",
    "print(\"Test data shape:\", test_data.shape)  # Should be (10000, 3072)\n",
    "print(\"Test labels shape:\", test_labels.shape)  # Should be (10000,)\n"
   ]
  },
  {
   "cell_type": "code",
   "execution_count": null,
   "id": "c40bc272-250a-4f17-aa95-ad8c5b1b8124",
   "metadata": {},
   "outputs": [],
   "source": []
  }
 ],
 "metadata": {
  "kernelspec": {
   "display_name": "Python 3 (ipykernel)",
   "language": "python",
   "name": "python3"
  },
  "language_info": {
   "codemirror_mode": {
    "name": "ipython",
    "version": 3
   },
   "file_extension": ".py",
   "mimetype": "text/x-python",
   "name": "python",
   "nbconvert_exporter": "python",
   "pygments_lexer": "ipython3",
   "version": "3.11.7"
  }
 },
 "nbformat": 4,
 "nbformat_minor": 5
}
