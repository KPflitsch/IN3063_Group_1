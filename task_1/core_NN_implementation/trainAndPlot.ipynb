{
 "cells": [
  {
   "cell_type": "code",
   "execution_count": null,
   "metadata": {},
   "outputs": [],
   "source": [
    "import sys\n",
    "sys.path.insert(1, \"...IN3063_Group_1\")\n",
    "\n",
    "from task_1.core_NN_implementation.fullyConnetedNN2 import fullyConnectedNN\n",
    "from task_1.dataset.datasetLoader import load_cifar10\n",
    "\n",
    "#dataset directory\n",
    "data_dir = \"...task_1\\\\dataset\\\\cifar-10-batches-py\"\n",
    "\n",
    "X_train, y_train, X_test, y_test = load_cifar10(data_dir)\n",
    "\n",
    "#Preprocess the data\n",
    "X_train = X_train / 255.0  \n",
    "X_test = X_test / 255.0\n",
    "\n",
    "#Flatten images\n",
    "X_train_flat = X_train.reshape(X_train.shape[0], -1)\n",
    "X_test_flat = X_test.reshape(X_test.shape[0], -1)\n",
    "\n",
    "#One-hot encode the labels\n",
    "def one_hot_encode(labels, num_classes=10):\n",
    "    return np.eye(num_classes)[labels]\n",
    "\n",
    "y_train_one_hot = one_hot_encode(y_train)\n",
    "y_test_one_hot = one_hot_encode(y_test)\n",
    "\n",
    "#parameters for the neural network\n",
    "hidden_layers = [512, 256] \n",
    "activations = ['relu', 'relu', 'softmax'] \n",
    "learning_rate = 0.001\n",
    "dropout_rate = 0.5\n",
    "regularization = 'L2'\n",
    "\n",
    "#making the neural network\n",
    "model = fullyConnectedNN(\n",
    "    input_size=3072,\n",
    "    output_size=10,  \n",
    "    hidden_layers=hidden_layers,\n",
    "    activations=activations,\n",
    "    learning_rate=learning_rate,\n",
    "    dropout_rate=dropout_rate,\n",
    "    regularization=regularization\n",
    ")\n",
    "\n",
    "#Train the Model\n",
    "history = model.train(\n",
    "    X_train_flat, y_train_one_hot,\n",
    "    epochs=10,\n",
    "    batch_size=64,  \n",
    "    X_val=X_test_flat, y_val=y_test_one_hot  \n",
    ")\n",
    "\n",
    "#Evaluate on Test Data\n",
    "test_loss, test_accuracy = model.evaluate(X_test_flat, y_test_one_hot)\n",
    "print(f\"Test Loss: {test_loss:.4f}, Test Accuracy: {test_accuracy:.4f}\")\n",
    "\n",
    "#Plot Training and Validation Metrics\n",
    "model.plot_metrics(history)\n"
   ]
  },
  {
   "cell_type": "code",
   "execution_count": null,
   "metadata": {},
   "outputs": [],
   "source": [
    "#Plot learing rate\n",
    "model.plot_learning_rate(history['learning_rate'])"
   ]
  }
 ],
 "metadata": {
  "kernelspec": {
   "display_name": "base",
   "language": "python",
   "name": "python3"
  },
  "language_info": {
   "codemirror_mode": {
    "name": "ipython",
    "version": 3
   },
   "file_extension": ".py",
   "mimetype": "text/x-python",
   "name": "python",
   "nbconvert_exporter": "python",
   "pygments_lexer": "ipython3",
   "version": "3.12.4"
  }
 },
 "nbformat": 4,
 "nbformat_minor": 2
}
