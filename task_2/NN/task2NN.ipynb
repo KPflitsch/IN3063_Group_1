{
 "cells": [
  {
   "cell_type": "code",
   "id": "initial_id",
   "metadata": {
    "collapsed": true,
    "ExecuteTime": {
     "end_time": "2024-12-23T14:47:00.909362Z",
     "start_time": "2024-12-23T14:47:00.807767Z"
    }
   },
   "source": [
    "import pandas as pd\n",
    "import torch\n",
    "from torch.utils.data import Dataset, DataLoader\n",
    "from sklearn.preprocessing import StandardScaler\n",
    "\n",
    "data = pd.read_csv('../task_2_dataset/london_weather_clean.csv')\n",
    "\n",
    "print(data.info())\n",
    "print(data.describe())"
   ],
   "outputs": [
    {
     "name": "stdout",
     "output_type": "stream",
     "text": [
      "<class 'pandas.core.frame.DataFrame'>\n",
      "RangeIndex: 15104 entries, 0 to 15103\n",
      "Data columns (total 10 columns):\n",
      " #   Column            Non-Null Count  Dtype  \n",
      "---  ------            --------------  -----  \n",
      " 0   date              15104 non-null  int64  \n",
      " 1   cloud_cover       15085 non-null  float64\n",
      " 2   sunshine          15104 non-null  float64\n",
      " 3   global_radiation  15085 non-null  float64\n",
      " 4   max_temp          15104 non-null  float64\n",
      " 5   mean_temp         15075 non-null  float64\n",
      " 6   min_temp          15104 non-null  float64\n",
      " 7   precipitation     15102 non-null  float64\n",
      " 8   pressure          15100 non-null  float64\n",
      " 9   snow_depth        13672 non-null  float64\n",
      "dtypes: float64(9), int64(1)\n",
      "memory usage: 1.2 MB\n",
      "None\n",
      "               date   cloud_cover      sunshine  global_radiation  \\\n",
      "count  1.510400e+04  15085.000000  15104.000000      15085.000000   \n",
      "mean   1.999583e+07      5.247000      4.398649        119.978787   \n",
      "std    1.211468e+05      2.070516      4.034056         88.883210   \n",
      "min    1.979010e+07      0.000000      0.000000          8.000000   \n",
      "25%    1.989071e+07      4.000000      0.500000         42.000000   \n",
      "50%    2.000011e+07      6.000000      3.600000         97.000000   \n",
      "75%    2.010063e+07      7.000000      7.300000        187.000000   \n",
      "max    2.020123e+07      9.000000     16.000000        402.000000   \n",
      "\n",
      "           max_temp     mean_temp      min_temp  precipitation       pressure  \\\n",
      "count  15104.000000  15075.000000  15104.000000   15102.000000   15100.000000   \n",
      "mean      15.519379     11.505904      7.550444       1.649629  101542.382119   \n",
      "std        6.498176      5.742571      5.342517       3.719475    1045.271548   \n",
      "min       -3.300000     -7.600000    -11.800000       0.000000   95960.000000   \n",
      "25%       10.700000      7.100000      3.500000       0.000000  100920.000000   \n",
      "50%       15.200000     11.400000      7.800000       0.000000  101630.000000   \n",
      "75%       20.400000     16.000000     11.800000       1.600000  102250.000000   \n",
      "max       37.900000     29.000000     22.300000      61.800000  104820.000000   \n",
      "\n",
      "         snow_depth  \n",
      "count  13672.000000  \n",
      "mean       0.038107  \n",
      "std        0.548913  \n",
      "min        0.000000  \n",
      "25%        0.000000  \n",
      "50%        0.000000  \n",
      "75%        0.000000  \n",
      "max       22.000000  \n"
     ]
    }
   ],
   "execution_count": 2
  }
 ],
 "metadata": {
  "kernelspec": {
   "display_name": "Python 3",
   "language": "python",
   "name": "python3"
  },
  "language_info": {
   "codemirror_mode": {
    "name": "ipython",
    "version": 2
   },
   "file_extension": ".py",
   "mimetype": "text/x-python",
   "name": "python",
   "nbconvert_exporter": "python",
   "pygments_lexer": "ipython2",
   "version": "2.7.6"
  }
 },
 "nbformat": 4,
 "nbformat_minor": 5
}
