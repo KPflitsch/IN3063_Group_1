{
 "cells": [
  {
   "cell_type": "code",
   "id": "initial_id",
   "metadata": {
    "collapsed": true,
    "ExecuteTime": {
     "end_time": "2024-12-23T15:36:13.443113Z",
     "start_time": "2024-12-23T15:36:13.364201Z"
    }
   },
   "source": [
    "import pandas as pd\n",
    "import torch\n",
    "from sklearn.model_selection import train_test_split\n",
    "from torch.utils.data import Dataset, DataLoader\n",
    "from sklearn.preprocessing import StandardScaler\n",
    "\n",
    "# Load dataset\n",
    "data = pd.read_csv('../task_2_dataset/london_weather_clean.csv')\n",
    "\n",
    "# Show basic info on dataset\n",
    "print(data.info())\n",
    "print(data.describe())\n",
    "print(data.columns)\n",
    "\n",
    "# Handle missing data\n",
    "data = data.dropna()\n",
    "\n",
    "# Data to learn from\n",
    "X = data.drop(columns=['mean_temp'])\n",
    "\n",
    "# Target data to predict\n",
    "y = data['mean_temp']\n",
    "\n",
    "# Splitting dataset\n",
    "X_train, X_test, y_train, y_test = train_test_split(X, y, test_size=0.2, random_state=42)\n",
    "\n",
    "# Standardise features\n",
    "scaler = StandardScaler()\n",
    "X_train = scaler.fit_transform(X_train)\n",
    "X_test = scaler.transform(X_test)\n",
    "\n",
    "# Convert to tensors for pytorch\n",
    "X_train_tensor = torch.tensor(X_train, dtype=torch.float32)\n",
    "y_train_tensor = torch.tensor(y_train.values, dtype=torch.float32).view(-1, 1)\n",
    "X_test_tensor = torch.tensor(X_test, dtype=torch.float32)\n",
    "y_test_tensor = torch.tensor(y_test.values, dtype=torch.float32).view(-1, 1)\n"
   ],
   "outputs": [
    {
     "name": "stdout",
     "output_type": "stream",
     "text": [
      "<class 'pandas.core.frame.DataFrame'>\n",
      "RangeIndex: 15104 entries, 0 to 15103\n",
      "Data columns (total 10 columns):\n",
      " #   Column            Non-Null Count  Dtype  \n",
      "---  ------            --------------  -----  \n",
      " 0   date              15104 non-null  int64  \n",
      " 1   cloud_cover       15085 non-null  float64\n",
      " 2   sunshine          15104 non-null  float64\n",
      " 3   global_radiation  15085 non-null  float64\n",
      " 4   max_temp          15104 non-null  float64\n",
      " 5   mean_temp         15075 non-null  float64\n",
      " 6   min_temp          15104 non-null  float64\n",
      " 7   precipitation     15102 non-null  float64\n",
      " 8   pressure          15100 non-null  float64\n",
      " 9   snow_depth        13672 non-null  float64\n",
      "dtypes: float64(9), int64(1)\n",
      "memory usage: 1.2 MB\n",
      "None\n",
      "               date   cloud_cover      sunshine  global_radiation  \\\n",
      "count  1.510400e+04  15085.000000  15104.000000      15085.000000   \n",
      "mean   1.999583e+07      5.247000      4.398649        119.978787   \n",
      "std    1.211468e+05      2.070516      4.034056         88.883210   \n",
      "min    1.979010e+07      0.000000      0.000000          8.000000   \n",
      "25%    1.989071e+07      4.000000      0.500000         42.000000   \n",
      "50%    2.000011e+07      6.000000      3.600000         97.000000   \n",
      "75%    2.010063e+07      7.000000      7.300000        187.000000   \n",
      "max    2.020123e+07      9.000000     16.000000        402.000000   \n",
      "\n",
      "           max_temp     mean_temp      min_temp  precipitation       pressure  \\\n",
      "count  15104.000000  15075.000000  15104.000000   15102.000000   15100.000000   \n",
      "mean      15.519379     11.505904      7.550444       1.649629  101542.382119   \n",
      "std        6.498176      5.742571      5.342517       3.719475    1045.271548   \n",
      "min       -3.300000     -7.600000    -11.800000       0.000000   95960.000000   \n",
      "25%       10.700000      7.100000      3.500000       0.000000  100920.000000   \n",
      "50%       15.200000     11.400000      7.800000       0.000000  101630.000000   \n",
      "75%       20.400000     16.000000     11.800000       1.600000  102250.000000   \n",
      "max       37.900000     29.000000     22.300000      61.800000  104820.000000   \n",
      "\n",
      "         snow_depth  \n",
      "count  13672.000000  \n",
      "mean       0.038107  \n",
      "std        0.548913  \n",
      "min        0.000000  \n",
      "25%        0.000000  \n",
      "50%        0.000000  \n",
      "75%        0.000000  \n",
      "max       22.000000  \n",
      "Index(['date', 'cloud_cover', 'sunshine', 'global_radiation', 'max_temp',\n",
      "       'mean_temp', 'min_temp', 'precipitation', 'pressure', 'snow_depth'],\n",
      "      dtype='object')\n"
     ]
    }
   ],
   "execution_count": 31
  },
  {
   "metadata": {
    "ExecuteTime": {
     "end_time": "2024-12-23T15:36:15.864327Z",
     "start_time": "2024-12-23T15:36:15.846600Z"
    }
   },
   "cell_type": "code",
   "source": [
    "# Class for weather dataset for manipulation\n",
    "class WeatherDataset(Dataset):\n",
    "    def __init__(self, features, targets):\n",
    "        self.features = features\n",
    "        self.targets = targets\n",
    "\n",
    "    def __len__(self):\n",
    "        return len(self.features)\n",
    "\n",
    "    def __getitem__(self, idx):\n",
    "        return self.features[idx], self.targets[idx]\n",
    "\n",
    "# Create training and testing datasets from main dataset\n",
    "train_dataset = WeatherDataset(X_train_tensor, y_train_tensor)\n",
    "test_dataset = WeatherDataset(X_test_tensor, y_test_tensor)\n",
    "\n",
    "# Create data loaders for training and testing\n",
    "train_loader = DataLoader(train_dataset, batch_size=32, shuffle=True)\n",
    "test_loader = DataLoader(test_dataset, batch_size=32, shuffle=False)\n",
    "\n"
   ],
   "id": "7e9f026a558fb61f",
   "outputs": [],
   "execution_count": 32
  },
  {
   "metadata": {
    "ExecuteTime": {
     "end_time": "2024-12-23T15:36:17.735144Z",
     "start_time": "2024-12-23T15:36:17.720912Z"
    }
   },
   "cell_type": "code",
   "source": [
    "import torch.nn as nn\n",
    "\n",
    "# Define model\n",
    "class PredictWeatherModel(nn.Module):\n",
    "    def __init__(self, input_dim):\n",
    "        super(PredictWeatherModel, self).__init__()\n",
    "        self.fc1 = nn.Linear(input_dim, 64)\n",
    "        self.relu1 = nn.ReLU()\n",
    "        self.fc2 = nn.Linear(64, 32)\n",
    "        self.relu2 = nn.ReLU()\n",
    "        self.fc3 = nn.Linear(32, 1)\n",
    "\n",
    "    def forward(self, x):\n",
    "        x = self.relu1(self.fc1(x))\n",
    "        x = self.relu2(self.fc2(x))\n",
    "        x = self.fc3(x)\n",
    "        return x\n",
    "\n",
    "# Init model\n",
    "input_dim = X_train_tensor.shape[1]\n",
    "model = PredictWeatherModel(input_dim)"
   ],
   "id": "5c8ba80113900c79",
   "outputs": [],
   "execution_count": 33
  },
  {
   "metadata": {
    "ExecuteTime": {
     "end_time": "2024-12-23T15:36:19.595203Z",
     "start_time": "2024-12-23T15:36:19.588926Z"
    }
   },
   "cell_type": "code",
   "source": [
    "import torch.optim as optim\n",
    "\n",
    "# Loss + optimizer\n",
    "# Mean squared error for regression\n",
    "criterion = nn.MSELoss()\n",
    "optimizer = optim.Adam(model.parameters(), lr=0.001)"
   ],
   "id": "e24ec7e9063f13a2",
   "outputs": [],
   "execution_count": 34
  },
  {
   "metadata": {
    "ExecuteTime": {
     "end_time": "2024-12-23T15:36:20.970614Z",
     "start_time": "2024-12-23T15:36:20.953871Z"
    }
   },
   "cell_type": "code",
   "source": [
    "# Training loop\n",
    "epochs = 50"
   ],
   "id": "92ca4753d38b7e00",
   "outputs": [],
   "execution_count": 35
  },
  {
   "metadata": {
    "ExecuteTime": {
     "end_time": "2024-12-23T15:24:35.821521Z",
     "start_time": "2024-12-23T15:24:35.737039Z"
    }
   },
   "cell_type": "code",
   "source": "# Evaluate Model\n",
   "id": "c92e5b623f5a65a3",
   "outputs": [
    {
     "name": "stdout",
     "output_type": "stream",
     "text": [
      "Test Loss: 0.7628\n"
     ]
    }
   ],
   "execution_count": 20
  },
  {
   "metadata": {
    "ExecuteTime": {
     "end_time": "2024-12-23T15:24:37.108126Z",
     "start_time": "2024-12-23T15:24:37.086726Z"
    }
   },
   "cell_type": "code",
   "source": [
    "# Improve model\n",
    "# class ImprovedWeatherModel"
   ],
   "id": "fbf99eb88289e6d3",
   "outputs": [],
   "execution_count": 21
  },
  {
   "metadata": {
    "ExecuteTime": {
     "end_time": "2024-12-23T15:35:00.704790Z",
     "start_time": "2024-12-23T15:35:00.696837Z"
    }
   },
   "cell_type": "code",
   "source": "# Hyperparameter optimization",
   "id": "3d3ea4eb0fb545a5",
   "outputs": [],
   "execution_count": 28
  }
 ],
 "metadata": {
  "kernelspec": {
   "display_name": "Python 3",
   "language": "python",
   "name": "python3"
  },
  "language_info": {
   "codemirror_mode": {
    "name": "ipython",
    "version": 2
   },
   "file_extension": ".py",
   "mimetype": "text/x-python",
   "name": "python",
   "nbconvert_exporter": "python",
   "pygments_lexer": "ipython2",
   "version": "2.7.6"
  }
 },
 "nbformat": 4,
 "nbformat_minor": 5
}
