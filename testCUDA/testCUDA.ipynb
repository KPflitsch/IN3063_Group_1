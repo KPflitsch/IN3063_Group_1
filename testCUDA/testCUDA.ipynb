{
 "cells": [
  {
   "metadata": {},
   "cell_type": "markdown",
   "source": "Use this first to verify CUDA availability.",
   "id": "15298293c3bb85f2"
  },
  {
   "metadata": {
    "collapsed": true,
    "ExecuteTime": {
     "end_time": "2024-11-22T10:35:32.105101Z",
     "start_time": "2024-11-22T10:35:28.143697Z"
    }
   },
   "cell_type": "code",
   "outputs": [
    {
     "name": "stdout",
     "output_type": "stream",
     "text": [
      "PyTorch version: 2.5.1+cu118\n",
      "CUDA is available!\n",
      "CUDA Device Name: NVIDIA GeForce MX150\n",
      "Tensor addition result: tensor([5., 7., 9.])\n"
     ]
    }
   ],
   "execution_count": 1,
   "source": [
    "import torch\n",
    "\n",
    "def test_pytorch_installation():\n",
    "    try:\n",
    "        # Check if PyTorch is installed\n",
    "        print(\"PyTorch version:\", torch.__version__)\n",
    "\n",
    "        # Check for CUDA availability\n",
    "        if torch.cuda.is_available():\n",
    "            print(\"CUDA is available\")\n",
    "            print(\"CUDA Device Name:\", torch.cuda.get_device_name(0))\n",
    "        else:\n",
    "            print(\"CUDA is not available.\")\n",
    "\n",
    "        # Perform a simple tensor operation\n",
    "        a = torch.tensor([1.0, 2.0, 3.0])\n",
    "        b = torch.tensor([4.0, 5.0, 6.0])\n",
    "        c = a + b\n",
    "        print(\"Tensor addition result:\", c)\n",
    "\n",
    "    except Exception as e:\n",
    "        print(\"Error:\", e)\n",
    "        print(\"PyTorch is not installed properly.\")\n",
    "\n",
    "if __name__ == \"__main__\":\n",
    "    test_pytorch_installation()"
   ],
   "id": "initial_id"
  },
  {
   "metadata": {},
   "cell_type": "markdown",
   "source": [
    "Use this to test GPU acceleration if CUDA is available.\n",
    "If the previous result was \"CUDA is not available\" then this will not run."
   ],
   "id": "fbb1933fb75cf87b"
  },
  {
   "metadata": {},
   "cell_type": "code",
   "outputs": [],
   "execution_count": null,
   "source": [
    "import torch\n",
    "\n",
    "# Create tensors\n",
    "a = torch.randn(3, 3).cuda()  # Move tensor to GPU\n",
    "b = torch.randn(3, 3).cuda()  # Move tensor to GPU\n",
    "\n",
    "# Perform GPU-accelerated computation\n",
    "c = a + b\n",
    "print(\"Tensor addition result (on GPU):\", c)"
   ],
   "id": "d876997fa4f54c7"
  },
  {
   "metadata": {},
   "cell_type": "markdown",
   "source": "",
   "id": "b4f8e8447b0d86b0"
  }
 ],
 "metadata": {
  "kernelspec": {
   "display_name": "Python 3",
   "language": "python",
   "name": "python3"
  },
  "language_info": {
   "codemirror_mode": {
    "name": "ipython",
    "version": 2
   },
   "file_extension": ".py",
   "mimetype": "text/x-python",
   "name": "python",
   "nbconvert_exporter": "python",
   "pygments_lexer": "ipython2",
   "version": "2.7.6"
  }
 },
 "nbformat": 4,
 "nbformat_minor": 5
}
