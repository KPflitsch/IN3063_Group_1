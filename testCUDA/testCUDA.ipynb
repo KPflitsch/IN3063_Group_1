{
 "cells": [
  {
   "metadata": {},
   "cell_type": "markdown",
   "source": "Use this first to verify CUDA availability.",
   "id": "15298293c3bb85f2"
  },
  {
   "metadata": {
    "collapsed": true,
    "ExecuteTime": {
     "end_time": "2024-11-29T10:33:20.762604Z",
     "start_time": "2024-11-29T10:33:20.720850Z"
    }
   },
   "cell_type": "code",
   "source": [
    "def test_pytorch_installation():\n",
    "    try:\n",
    "        # Check if PyTorch is installed\n",
    "        print(\"PyTorch version:\", torch.__version__)\n",
    "\n",
    "        # Check for CUDA availability\n",
    "        if torch.cuda.is_available():\n",
    "            print(\"CUDA is available\")\n",
    "            print(\"CUDA Device Name:\", torch.cuda.get_device_name(0))\n",
    "        else:\n",
    "            print(\"CUDA is not available.\")\n",
    "\n",
    "        # Perform a simple tensor operation\n",
    "        a = torch.tensor([1.0, 2.0, 3.0])\n",
    "        b = torch.tensor([4.0, 5.0, 6.0])\n",
    "        c = a + b\n",
    "        print(\"Tensor addition result:\", c)\n",
    "\n",
    "    except Exception as e:\n",
    "        print(\"Error:\", e)\n",
    "        print(\"PyTorch is not installed properly.\")\n",
    "\n",
    "if __name__ == \"__main__\":\n",
    "    test_pytorch_installation()"
   ],
   "id": "initial_id",
   "outputs": [
    {
     "name": "stdout",
     "output_type": "stream",
     "text": [
      "PyTorch version: 2.5.1+cu118\n",
      "CUDA is available\n",
      "CUDA Device Name: NVIDIA GeForce MX150\n",
      "Tensor addition result: tensor([5., 7., 9.])\n"
     ]
    }
   ],
   "execution_count": 7
  },
  {
   "metadata": {},
   "cell_type": "markdown",
   "source": [
    "Use this to test GPU acceleration if CUDA is available.\n",
    "If the previous result was \"CUDA is not available\" then this will not run."
   ],
   "id": "fbb1933fb75cf87b"
  },
  {
   "metadata": {
    "ExecuteTime": {
     "end_time": "2024-11-29T10:33:17.779248Z",
     "start_time": "2024-11-29T10:33:17.765743Z"
    }
   },
   "cell_type": "code",
   "source": [
    "import torch\n",
    "\n",
    "# Create tensors\n",
    "a = torch.randn(3, 3).cuda()  # Move tensor to GPU\n",
    "b = torch.randn(3, 3).cuda()  # Move tensor to GPU\n",
    "\n",
    "# Perform GPU-accelerated computation\n",
    "c = a + b\n",
    "print(\"Tensor addition result (on GPU):\", c)"
   ],
   "id": "d876997fa4f54c7",
   "outputs": [
    {
     "name": "stdout",
     "output_type": "stream",
     "text": [
      "Tensor addition result (on GPU): tensor([[-0.7934, -1.3328, -0.0646],\n",
      "        [ 1.6728,  1.2269,  1.6858],\n",
      "        [ 0.0939, -1.7817,  0.1092]], device='cuda:0')\n"
     ]
    }
   ],
   "execution_count": 6
  },
  {
   "metadata": {},
   "cell_type": "markdown",
   "source": "",
   "id": "b4f8e8447b0d86b0"
  },
  {
   "metadata": {
    "ExecuteTime": {
     "end_time": "2024-11-29T10:33:24.464367Z",
     "start_time": "2024-11-29T10:33:24.456266Z"
    }
   },
   "cell_type": "code",
   "source": [
    "import torch\n",
    "import torchvision\n",
    "from torchvision import transforms, models\n",
    "\n",
    "print(\"Pytorch version: \", torch.__version__)\n",
    "\n",
    "print(\"TOrchvision version: \", torchvision.__version__)"
   ],
   "id": "f9d069960161a609",
   "outputs": [
    {
     "name": "stdout",
     "output_type": "stream",
     "text": [
      "Pytorch version:  2.5.1+cu118\n",
      "TOrchvision version:  0.20.1+cu118\n"
     ]
    }
   ],
   "execution_count": 8
  }
 ],
 "metadata": {
  "kernelspec": {
   "display_name": "Python 3",
   "language": "python",
   "name": "python3"
  },
  "language_info": {
   "codemirror_mode": {
    "name": "ipython",
    "version": 2
   },
   "file_extension": ".py",
   "mimetype": "text/x-python",
   "name": "python",
   "nbconvert_exporter": "python",
   "pygments_lexer": "ipython2",
   "version": "2.7.6"
  }
 },
 "nbformat": 4,
 "nbformat_minor": 5
}
